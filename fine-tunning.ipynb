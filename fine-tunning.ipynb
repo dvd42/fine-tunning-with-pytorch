{
 "cells": [
  {
   "cell_type": "markdown",
   "metadata": {},
   "source": [
    "## 1. Introduction\n",
    "\n",
    "This post provides an introduction to fine-tunning techniques that are taught in the Machine Learning subject of the intensive course in computing of the UAB's Bachelor's Degree in Computer Engineering. In it, we will learn how to fine-tune a **Convolutional Neural Network (CNN)** for a vision-related classification task. The code for this blog post can be found [here](https://github.com/dvd42/fine-tunning-with-pytorch)."
   ]
  },
  {
   "cell_type": "markdown",
   "metadata": {},
   "source": [
    "## 2. Fine-Tunning\n",
    "\n",
    "In Deep Learning fine-tunning refers to the practice of taking the parameters of a **pre-trained** neural network (usually a **CNN**) and change them slightly. Training the network to generalize on a different dataset from that which it was trained on.\n",
    "\n",
    "### 2.1 Why do we use fine-tunning?\n",
    "\n",
    "1. Convolutional Networks usually have a large number of parameters, often in the range of **millions**. Training one of these CNNs with a dataset that is significantly smaller than the number of parameters it has, will prevent it from generalizing, making it **overfit** the data.\n",
    "\n",
    "2. Training a Network with millions of parameters from scratch takes a large amount of time.  \n",
    "\n",
    "Fine-tunning bypass **both** of these problems by taking an already trained network, modifying it slightly and **re-train it on new data**. Avoiding overfitting and making the training significantly faster.\n",
    "\n",
    "\n",
    "\n",
    "\n",
    "\n",
    "\n"
   ]
  },
  {
   "cell_type": "markdown",
   "metadata": {},
   "source": [
    "### 2.2 How to fine-tune?\n",
    "\n",
    "\n",
    "The first thing you have to do is change only the last fully-connected layer of the network, replacing with your own layer with your own, having as many output units as your task requires. For example: A network trained with **Imagenet** will have **1000 neurons** on the last layer, since Imagenet has 1000 classes. If our dataset has only **10 classes** we just replace the last layer with one that has **10 neurons**.\n",
    "\n",
    "Once this is done Fine-tunning can be performed in mainly in 3 different ways:\n",
    "\n",
    "1. **Freeze the entire network** and train only the **newly added layer** with a normal learning rate. \n",
    "\n",
    "\n",
    "2. **Freeze the first layers** of the network **(no backprop)** and train the rest of the network with a **smaller learning rate**. Since the first convolutional layers always **focus on edges and corners** it is very likely that we don't have to change their weights because no matter what your image has in it, it will always have corners and edges. The **newyly added layer** should be trained with a normal learning rate.  \n",
    "\n",
    "\n",
    "3. Re-train the **entire network** with high learning rate. The previous approaches cna work when the domain of the new task is **similar** to the one with which the network was pre-trained. But when the domain of the new task **differs** a lot from the original one, the network must **re-learn a lot**, and so **more agressive** parameter updates are required.\n",
    "\n",
    "\n",
    "\n",
    "![weights](fine-tunning_images/weights.png)\n"
   ]
  },
  {
   "cell_type": "markdown",
   "metadata": {},
   "source": [
    "## 3. Dependencies\n",
    "\n",
    "For this task we will use the following libraries: \n",
    "   \n",
    "   * Numpy: For matrix and vector operations\n",
    "   * Pytorch: Train and validate our neural network using parallel GPU computation\n",
    "   * Matplotlib: To visualize data"
   ]
  },
  {
   "cell_type": "code",
   "execution_count": 1,
   "metadata": {},
   "outputs": [],
   "source": [
    "# Import the necessary libraries\n",
    "import torch\n",
    "import torch.nn as nn\n",
    "from torch.optim import SGD\n",
    "from torch.utils.data import DataLoader\n",
    "import torchvision.transforms as T\n",
    "from torchvision import models, datasets\n",
    "\n",
    "import matplotlib.pyplot as plt"
   ]
  },
  {
   "cell_type": "markdown",
   "metadata": {},
   "source": [
    "## 4. Dataset\n",
    "\n",
    "The Dataset that we will use for this blog is the one used at the ISIC lesion diagnosis challenge. The lesion images come from the HAM10000 Dataset, and were acquired with a variety of dermatoscope types, from all anatomic sites (excluding mucosa and nails), from a historical sample of patients presented for skin cancer screening, from several different institutions. \n",
    "\n",
    "The distribution of disease states represent a modified “real world” setting whereby there are more benign lesions than malignant lesions, but an over-representation of malignancies.  \n",
    "The Dataset consists of 10015 images belonging to one of 6 of the following classes.\n",
    "\n",
    "![data](fine-tunning_images/data.png)"
   ]
  },
  {
   "cell_type": "markdown",
   "metadata": {},
   "source": [
    "## 5. Preparing Data\n",
    "\n",
    "For this task we will use a **Resnet18** network architecture trained on **Imagenet**.  \n",
    "\n",
    "![resnet18](fine-tunning_images/resnet18.png)"
   ]
  },
  {
   "cell_type": "code",
   "execution_count": 2,
   "metadata": {},
   "outputs": [],
   "source": [
    "# First thing we have to do is download the pre-trained model using PyTorch\n",
    "model = models.resnet18(pretrained=True)"
   ]
  },
  {
   "cell_type": "markdown",
   "metadata": {},
   "source": [
    "### 5.1 Data augmentation\n",
    "\n",
    "For this dataset we can use some data augmentation techniques. A very common practice is to Randomly flip an image horizontally. Since no information is lost by performing this operation, we can effectively augment the amount of images in our dataset.  \n",
    "On top of that you can also crop a random section of the image and feed that to the network, this is also a good technique to effectively augment the amount of images in the dataset while also helping the network to generalize better since it adds more variance to the data."
   ]
  },
  {
   "cell_type": "markdown",
   "metadata": {},
   "source": [
    "### 5.2 Data Normalization\n",
    "\n",
    "The network must be used with 224x244 images. Also the images with which the network was trained were normalized using the Imagenet mean and standard deviation. We will adapt our data keeping these 2 things in mind.\n"
   ]
  },
  {
   "cell_type": "code",
   "execution_count": 3,
   "metadata": {},
   "outputs": [],
   "source": [
    "# Data augmentation and normalization\n",
    "train_trans = T.Compose([T.RandomResizedCrop(224), T.RandomHorizontalFlip(), T.ToTensor(),\n",
    "                                  T.Normalize([0.485, 0.456, 0.406], [0.229, 0.224, 0.225])])\n",
    "\n",
    "val_trans = T.Compose([T.Resize(224),T.CenterCrop(224), T.ToTensor(),\n",
    "                       T.Normalize([0.485, 0.456, 0.406], [0.229, 0.224, 0.225])])"
   ]
  },
  {
   "cell_type": "code",
   "execution_count": 4,
   "metadata": {},
   "outputs": [],
   "source": [
    "# Create training and validation datasets\n",
    "train_set = datasets.ImageFolder(\"/home/diego/DATASETS/ISIC_Challenge/train\", train_trans)\n",
    "val_set = datasets.ImageFolder(\"/home/diego/DATASETS/ISIC_Challenge/val\", val_trans)"
   ]
  },
  {
   "cell_type": "code",
   "execution_count": 5,
   "metadata": {},
   "outputs": [],
   "source": [
    "# Establish hyper-parameters\n",
    "batch_size = 256\n",
    "lr = 0.05\n",
    "n_gpus = 2\n",
    "momentum = 0.9\n",
    "epochs = 50"
   ]
  },
  {
   "cell_type": "code",
   "execution_count": 6,
   "metadata": {},
   "outputs": [],
   "source": [
    "# Create our dataloaders\n",
    "train_loader = DataLoader(train_set, batch_size=batch_size, shuffle=True, num_workers=8)\n",
    "val_loader = DataLoader(val_set, batch_size=batch_size, shuffle=False, num_workers=8)"
   ]
  },
  {
   "cell_type": "markdown",
   "metadata": {},
   "source": [
    "Our data is now ready to be fed into the model."
   ]
  },
  {
   "cell_type": "markdown",
   "metadata": {},
   "source": [
    "## 6. Modify the model\n",
    "\n",
    "As mentioned above the network must be modified slightly before the fine-tunning process. Since the **domain** of the **data** is **quite different** from the one in which the network was trained we will use approach **3**."
   ]
  },
  {
   "cell_type": "code",
   "execution_count": 7,
   "metadata": {},
   "outputs": [],
   "source": [
    "# Modify last layer\n",
    "in_features = model.fc.in_features \n",
    "model.fc = nn.Linear(in_features, 7) # we have 7 classes"
   ]
  },
  {
   "cell_type": "code",
   "execution_count": 8,
   "metadata": {},
   "outputs": [],
   "source": [
    "model = model.cuda() # move model to GPU"
   ]
  },
  {
   "cell_type": "markdown",
   "metadata": {},
   "source": [
    "### 6.1 Multiple GPUs\n",
    "\n",
    "Some models are too big for even the most powerful GPUs in the market, that's why it is necessary to train some models on more than one GPU in parallel."
   ]
  },
  {
   "cell_type": "code",
   "execution_count": 9,
   "metadata": {},
   "outputs": [],
   "source": [
    "# Train the model on all gpus\n",
    "model = nn.DataParallel(model, list(range(n_gpus))) "
   ]
  },
  {
   "cell_type": "markdown",
   "metadata": {},
   "source": [
    "## 7. Training and Validation\n",
    "Now we can start the training and validation of our model."
   ]
  },
  {
   "cell_type": "code",
   "execution_count": 10,
   "metadata": {},
   "outputs": [],
   "source": [
    "# Create loss function\n",
    "criterion = nn.CrossEntropyLoss()\n",
    "# Create optimizer for the network parameters\n",
    "optimizer = torch.optim.SGD(model.parameters(), lr=lr, momentum=momentum)\n",
    "torch.backends.cudnn.benchmark = True # choose the optimal convolution algorithm\n",
    "\n",
    "def train():\n",
    "    \n",
    "    model.train() # set model to training mode\n",
    "    \n",
    "    running_loss = 0\n",
    "    running_corrects = 0\n",
    "    total = 0\n",
    "\n",
    "    for data, labels in train_loader:\n",
    "        \n",
    "        optimizer.zero_grad()  # make the gradients 0\n",
    "        \n",
    "        x = data.cuda()\n",
    "        y = labels.cuda()\n",
    "        \n",
    "        output = model(x)  # forward pass\n",
    "        loss = criterion(output, y)  # calculate the loss value\n",
    "        preds = output.max(1)[1] # get the predictions for each sample\n",
    "\n",
    "\n",
    "        loss.backward() # compute the gradients\n",
    "        optimizer.step() # uptade network parameters\n",
    "\n",
    "        # statistics\n",
    "        running_loss += loss.item() * x.size(0)\n",
    "        # .item() converts type from torch to python float or int\n",
    "        running_corrects += torch.sum(preds == y).item()\n",
    "        total += float(y.size(0))\n",
    "\n",
    "    epoch_loss = running_loss / total  # mean epoch loss\n",
    "    epoch_acc = running_corrects / total  # mean epoch accuracy\n",
    "\n",
    "    return epoch_loss, epoch_acc\n",
    "\n",
    "\n",
    "def val():\n",
    "\n",
    "    model.eval()  # set model to validation mode\n",
    "\n",
    "    running_loss = 0\n",
    "    running_corrects = 0\n",
    "    total = 0\n",
    "    \n",
    "    # We are not backpropagating through the validation set, so we can save time  and memory \n",
    "    # by not computing the gradients\n",
    "    with torch.no_grad():\n",
    "        \n",
    "        for data, labels in val_loader:\n",
    "            \n",
    "            x = data.cuda()\n",
    "            y = labels.cuda()\n",
    "        \n",
    "            output = model(x)  # forward pass \n",
    "            \n",
    "            # Calculate the loss value (we do not to apply softmax to our output because Pytorch's \n",
    "            # implementation of the cross entropy loss does it for us)\n",
    "            loss = criterion(output, y) \n",
    "            preds = output.max(1)[1] # get the predictions for each sample\n",
    "            \n",
    "            # Statistics\n",
    "            running_loss += loss.item() * x.size(0)\n",
    "            # .item() converts type from torch to python float or int\n",
    "            running_corrects += torch.sum(preds==y).item()\n",
    "            total += float(y.size(0))\n",
    "    \n",
    "    epoch_loss = running_loss / total # mean epoch loss\n",
    "    epoch_acc = running_corrects / total # mean epoch accuracy\n",
    "    \n",
    "    return epoch_loss, epoch_acc"
   ]
  },
  {
   "cell_type": "code",
   "execution_count": 11,
   "metadata": {},
   "outputs": [
    {
     "data": {
      "image/png": "[encoded data removed]",
      "text/plain": [
       "<Figure size 432x288 with 2 Axes>"
      ]
     },
     "metadata": {
      "needs_background": "light"
     },
     "output_type": "display_data"
    }
   ],
   "source": [
    "# Remove this line out of jupyter notebooks\n",
    "from IPython import display\n",
    "\n",
    "train_accuracy = []\n",
    "val_accuracy = []\n",
    "train_loss = []\n",
    "val_loss = []\n",
    "\n",
    "# Training loop\n",
    "for epoch in range(epochs):\n",
    "    \n",
    "    loss, acc = train()\n",
    "    train_loss.append(loss)\n",
    "    train_accuracy.append(acc)\n",
    "    \n",
    "    loss, acc = val()\n",
    "    val_loss.append(loss)\n",
    "    val_accuracy.append(acc)\n",
    "    \n",
    "    plt.subplot(1,2,1)\n",
    "    plt.title(\"loss\")\n",
    "    plt.plot(train_loss, 'b-')\n",
    "    plt.plot(val_loss, 'r-')\n",
    "    plt.legend([\"train\", \"val\"])\n",
    "    plt.subplot(1,2,2)\n",
    "    plt.title(\"accuracy\")\n",
    "    plt.plot(train_accuracy, 'b-')\n",
    "    plt.plot(val_accuracy, 'r-')\n",
    "    plt.legend([\"train\", \"val\"])\n",
    "    display.clear_output(wait=True)\n",
    "    display.display(plt.gcf())\n",
    "display.clear_output(wait=True)"
   ]
  },
  {
   "cell_type": "code",
   "execution_count": 12,
   "metadata": {},
   "outputs": [
    {
     "name": "stdout",
     "output_type": "stream",
     "text": [
      "0.7945137157107232\n"
     ]
    }
   ],
   "source": [
    "print(max(val_accuracy))"
   ]
  },
  {
   "cell_type": "markdown",
   "metadata": {},
   "source": [
    "## 8. Conclusions\n",
    "\n",
    "On this blog post we learned how to use PyTorch to fine-tune a Convolutional Neural Network using multiple GPUs and data augmentation and normalization techniques.  \n",
    "We obtain a $79.4\\%$ accuracy score. Of course this model can be optimized much more by tinkering with the hyper-parameters a little, by using a [learning rate scheduler](https://pytorch.org/docs/stable/optim.html#how-to-adjust-learning-rate) and in many other ways.  \n",
    "Feel free to download this [notebook](https://github.com/dvd42/fine-tunning-with-pytorch) and experiment with various configurations."
   ]
  }
 ],
 "metadata": {
  "kernelspec": {
   "display_name": "Python 3",
   "language": "python",
   "name": "python3"
  },
  "language_info": {
   "codemirror_mode": {
    "name": "ipython",
    "version": 3
   },
   "file_extension": ".py",
   "mimetype": "text/x-python",
   "name": "python",
   "nbconvert_exporter": "python",
   "pygments_lexer": "ipython3",
   "version": "3.5.2"
  }
 },
 "nbformat": 4,
 "nbformat_minor": 2
}
